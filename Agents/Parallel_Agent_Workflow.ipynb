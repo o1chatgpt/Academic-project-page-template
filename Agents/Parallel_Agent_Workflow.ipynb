{
  "cells": [
    {
      "cell_type": "markdown",
      "metadata": {
        "id": "4BDuUeKQ6x9M"
      },
      "source": [
        "# Parallel Agent Workflow\n",
        "Author: [Zain Hasan](https://x.com/ZainHasan6)\n",
        "\n",
        "[![Open In Colab](https://colab.research.google.com/assets/colab-badge.svg)](https://colab.research.google.com/github/togethercomputer/together-cookbook/blob/main/Agents/Parallel_Agent_Workflow.ipynb)"
      ]
    },
    {
      "cell_type": "markdown",
      "metadata": {
        "id": "ff9ApLZ_6x9P"
      },
      "source": [
        "## Introduction\n",
        "\n",
        "In this notebook, we'll demonstrate how you can create an agent workflow that will execute multiple LLMs in parallel to solve the same task - proposing solutions which a final LLM aggregates into a response for the user.\n",
        "\n",
        "This strategy, proposed in the [Mixture of Agents paper](https://arxiv.org/abs/2406.04692), shows results far beyond the capabilities of individual contributing models.\n",
        "\n",
        "This notebook covers:\n",
        "\n",
        "1. An architecture that enables multiple LLMs to solve a task in parallel and propose solutions\n",
        "2. An aggregator model that synthesizes individual proposals into one final answer"
      ]
    },
    {
      "cell_type": "markdown",
      "metadata": {
        "id": "zZAg-XRP6x9Q"
      },
      "source": [
        "## Parallel Agent Workflow - Mixture of Agents\n",
        "\n",
        "<img src=\"https://github.com/togethercomputer/together-cookbook/blob/main/images/parallel_same.png?raw=1\" width=\"700\">\n",
        "\n",
        "In this **parallel agent workflow**, we demonstrate how you can orchestrate multiple LLMs to work simultaneously on the same task, with each model proposing its own solution. This approach leverages the collective intelligence of different models, with their responses being aggregated by a final LLM that synthesizes a comprehensive solution. Each model in the parallel workflow can have different capabilities or specialized knowledge, contributing unique perspectives to the task at hand.\n",
        "\n",
        "The aggregator model then analyzes these various proposals to create an enhanced final response that builds upon the strengths of each individual contribution.\n",
        "\n",
        "For our specific use case, the workflow breaks down as follows:\n",
        "\n",
        "1. Given a user prompt, multiple LLMs process the task in parallel, each generating their own proposed solution\n",
        "2. All individual responses are collected and passed to an aggregator LLM\n",
        "3. The aggregator LLM analyzes the collective proposals and synthesizes them into a final, improved response for the user\n",
        "\n",
        "Now let's see the coded implementation of this workflow.\n"
      ]
    },
    {
      "cell_type": "markdown",
      "metadata": {
        "id": "vqbXJPxi6x9R"
      },
      "source": [
        "## Setup and Utils"
      ]
    },
    {
      "cell_type": "code",
      "execution_count": null,
      "metadata": {
        "id": "lQKhNlw56x9R"
      },
      "outputs": [],
      "source": [
        "# Install libraries\n",
        "!pip install -qU pydantic together"
      ]
    },
    {
      "cell_type": "code",
      "execution_count": null,
      "metadata": {
        "id": "bRnhcrfG6x9T"
      },
      "outputs": [],
      "source": [
        "# Import libraries\n",
        "import json\n",
        "import asyncio\n",
        "import together\n",
        "from together import AsyncTogether, Together\n",
        "\n",
        "from typing import Any, Optional, Dict, List, Literal\n",
        "from pydantic import Field, BaseModel, ValidationError\n",
        "\n",
        "TOGETHER_API_KEY = \"--Your API Key--\"\n",
        "\n",
        "client = Together(api_key= TOGETHER_API_KEY)\n",
        "async_client = AsyncTogether(api_key= TOGETHER_API_KEY)"
      ]
    },
    {
      "cell_type": "code",
      "execution_count": null,
      "metadata": {
        "id": "c-WJBYxH6x9T"
      },
      "outputs": [],
      "source": [
        "# Simple LLM call helper function\n",
        "def run_llm(user_prompt : str, model : str, system_prompt : Optional[str] = None):\n",
        "    \"\"\" Run the language model with the given user prompt and system prompt. \"\"\"\n",
        "    messages = []\n",
        "    if system_prompt:\n",
        "        messages.append({\"role\": \"system\", \"content\": system_prompt})\n",
        "\n",
        "    messages.append({\"role\": \"user\", \"content\": user_prompt})\n",
        "\n",
        "    response = client.chat.completions.create(\n",
        "        model=model,\n",
        "        messages=messages,\n",
        "        temperature=0.7,\n",
        "        max_tokens=4000,\n",
        "    )\n",
        "\n",
        "    return response.choices[0].message.content"
      ]
    },
    {
      "cell_type": "markdown",
      "metadata": {
        "id": "WFKq9Fi86x9U"
      },
      "source": [
        "## Parallel Agent Implementation"
      ]
    },
    {
      "cell_type": "code",
      "execution_count": null,
      "metadata": {
        "id": "QpU_-vXJ6x9U"
      },
      "outputs": [],
      "source": [
        "# The function below will call the reference LLMs in parallel\n",
        "async def run_llm_parallel(user_prompt : str, model : str, system_prompt : str = None):\n",
        "    \"\"\"Run parallel LLM call with a reference model.\"\"\"\n",
        "    for sleep_time in [1, 2, 4]:\n",
        "        try:\n",
        "            messages = []\n",
        "            if system_prompt:\n",
        "                messages.append({\"role\": \"system\", \"content\": system_prompt})\n",
        "\n",
        "            messages.append({\"role\": \"user\", \"content\": user_prompt})\n",
        "\n",
        "            response = await async_client.chat.completions.create(\n",
        "                model=model,\n",
        "                messages=messages,\n",
        "                temperature=0.7,\n",
        "                max_tokens=2000,\n",
        "            )\n",
        "            break\n",
        "        except together.error.RateLimitError as e:\n",
        "            print(e)\n",
        "            await asyncio.sleep(sleep_time)\n",
        "    return response.choices[0].message.content"
      ]
    },
    {
      "cell_type": "code",
      "execution_count": null,
      "metadata": {
        "id": "az6aG7Np6x9U",
        "outputId": "80963850-2142-4bc4-a265-6c3c4fcb440b"
      },
      "outputs": [
        {
          "name": "stderr",
          "output_type": "stream",
          "text": [
            "<>:10: SyntaxWarning: invalid escape sequence '\\%'\n",
            "/var/folders/yd/r39kvy_94lvg2n0_11qz3pf00000gn/T/ipykernel_94920/1089907714.py:10: SyntaxWarning: invalid escape sequence '\\%'\n",
            "  user_prompt = \"\"\"Tim wants to invest some money in a bank which compounds quarterly\n"
          ]
        }
      ],
      "source": [
        "# These will be the intermediate proposer models\n",
        "\n",
        "reference_models = [\n",
        "    \"microsoft/WizardLM-2-8x22B\",\n",
        "    \"Qwen/Qwen2.5-72B-Instruct-Turbo\",\n",
        "    \"google/gemma-2-27b-it\",\n",
        "    \"meta-llama/Llama-3.3-70B-Instruct-Turbo\",\n",
        "]\n",
        "\n",
        "user_prompt = \"\"\"Tim wants to invest some money in a bank which compounds quarterly\n",
        "with an annual interest rate of $7\\%$. To the nearest dollar, how much money should he\n",
        "invest if he wants a total of $\\$60,\\!000$ at the end of $5$ years?\"\"\"\n",
        "\n",
        "# Generate intermediate reference responses\n",
        "results = await asyncio.gather(*[run_llm_parallel(user_prompt=user_prompt, model=model) for model in reference_models])"
      ]
    },
    {
      "cell_type": "code",
      "execution_count": null,
      "metadata": {
        "id": "Ir3uTG2H6x9W"
      },
      "outputs": [],
      "source": [
        "# Check we get all responses\n",
        "assert len(results) == len(reference_models)"
      ]
    },
    {
      "cell_type": "markdown",
      "metadata": {
        "id": "V_JSwhex6x9W"
      },
      "source": [
        "Next we'll aggregate the intermediate responses using anohter LLM:"
      ]
    },
    {
      "cell_type": "code",
      "execution_count": null,
      "metadata": {
        "id": "T7koSeli6x9W",
        "outputId": "c86ef9ec-d7af-44a2-dea1-acd94ec997f3"
      },
      "outputs": [
        {
          "name": "stdout",
          "output_type": "stream",
          "text": [
            "You have been provided with a set of responses from various open-source models to the latest user query.\n",
            "Your task is to synthesize these responses into a single, high-quality response. It is crucial to critically evaluate the information\n",
            "provided in these responses, recognizing that some of it may be biased or incorrect. Your response should not simply replicate the\n",
            "given answers but should offer a refined, accurate, and comprehensive reply to the instruction. Ensure your response is well-structured,\n",
            "coherent, and adheres to the highest standards of accuracy and reliability.\n",
            "\n",
            "Responses from models:\n",
            "1.  Let's think step by step.To solve this problem, we will use the formula for compound interest, which is given by:\n",
            "\n",
            "\\[ A = P \\left(1 + \\frac{r}{n}\\right)^{nt} \\]\n",
            "\n",
            "where:\n",
            "- \\( A \\) is the amount of money accumulated after \\( n \\) years, including interest.\n",
            "- \\( P \\) is the principal amount (the initial amount of money).\n",
            "- \\( r \\) is the annual interest rate (in decimal form).\n",
            "- \\( n \\) is the number of times that interest is compounded per year.\n",
            "- \\( t \\) is the time the money is invested for, in years.\n",
            "\n",
            "Given:\n",
            "- The final amount \\( A \\) that Tim wants is $60,000.\n",
            "- The annual interest rate \\( r \\) is 7%, which we convert to a decimal by dividing by 100, so \\( r = 0.07 \\).\n",
            "- The interest is compounded quarterly, which means \\( n = 4 \\) times per year.\n",
            "- The time \\( t \\) is 5 years.\n",
            "\n",
            "We need to find the principal \\( P \\) that Tim should invest.\n",
            "\n",
            "Rearranging the compound interest formula to solve for \\( P \\), we get:\n",
            "\n",
            "\\[ P = \\frac{A}{\\left(1 + \\frac{r}{n}\\right)^{nt}} \\]\n",
            "\n",
            "Now, let's plug in the values:\n",
            "\n",
            "\\[ P = \\frac{60,\\!000}{\\left(1 + \\frac{0.07}{4}\\right)^{4 \\cdot 5}} \\]\n",
            "\n",
            "\\[ P = \\frac{60,\\!000}{\\left(1 + 0.0175\\right)^{20}} \\]\n",
            "\n",
            "\\[ P = \\frac{60,\\!000}{\\left(1.0175\\right)^{20}} \\]\n",
            "\n",
            "Now we calculate the value inside the parentheses:\n",
            "\n",
            "\\[ \\left(1.0175\\right)^{20} \\approx 1.3899 \\]\n",
            "\n",
            "Now we divide the target amount by this value to find the initial investment \\( P \\):\n",
            "\n",
            "\\[ P = \\frac{60,\\!000}{1.3899} \\]\n",
            "\n",
            "\\[ P \\approx 43,\\!163.77 \\]\n",
            "\n",
            "Since we want the answer to the nearest dollar, we round \\( P \\) to the nearest whole number:\n",
            "\n",
            "\\[ P \\approx 43,\\!164 \\]\n",
            "\n",
            "Therefore, Tim should invest approximately $43,164 to have $60,000 at the end of 5 years, with the interest compounded quarterly at an annual rate of 7%.\n",
            "\n",
            "The final answer is \\boxed{43164}.\n",
            "\n",
            "The answer is: 43164.\n",
            "2. To determine how much Tim should invest to have $60,000 at the end of 5 years with a bank that compounds interest quarterly at an annual rate of 7%, we can use the formula for compound interest:\n",
            "\n",
            "\\[\n",
            "A = P \\left(1 + \\frac{r}{n}\\right)^{nt}\n",
            "\\]\n",
            "\n",
            "where:\n",
            "- \\( A \\) is the amount of money accumulated after \\( t \\) years, including interest.\n",
            "- \\( P \\) is the principal amount (the initial amount of money).\n",
            "- \\( r \\) is the annual interest rate (decimal).\n",
            "- \\( n \\) is the number of times interest is compounded per year.\n",
            "- \\( t \\) is the time the money is invested for in years.\n",
            "\n",
            "Given:\n",
            "- \\( A = 60,000 \\)\n",
            "- \\( r = 0.07 \\)\n",
            "- \\( n = 4 \\) (since the interest is compounded quarterly)\n",
            "- \\( t = 5 \\)\n",
            "\n",
            "We need to solve for \\( P \\). Plugging in the known values, we get:\n",
            "\n",
            "\\[\n",
            "60,000 = P \\left(1 + \\frac{0.07}{4}\\right)^{4 \\times 5}\n",
            "\\]\n",
            "\n",
            "First, calculate the interest rate per quarter:\n",
            "\n",
            "\\[\n",
            "\\frac{0.07}{4} = 0.0175\n",
            "\\]\n",
            "\n",
            "Next, calculate the total number of compounding periods:\n",
            "\n",
            "\\[\n",
            "4 \\times 5 = 20\n",
            "\\]\n",
            "\n",
            "Now, substitute these values into the formula:\n",
            "\n",
            "\\[\n",
            "60,000 = P \\left(1 + 0.0175\\right)^{20}\n",
            "\\]\n",
            "\n",
            "Calculate \\( 1 + 0.0175 \\):\n",
            "\n",
            "\\[\n",
            "1 + 0.0175 = 1.0175\n",
            "\\]\n",
            "\n",
            "Raise 1.0175 to the power of 20:\n",
            "\n",
            "\\[\n",
            "1.0175^{20} \\approx 1.414778\n",
            "\\]\n",
            "\n",
            "Now, solve for \\( P \\):\n",
            "\n",
            "\\[\n",
            "60,000 = P \\times 1.414778\n",
            "\\]\n",
            "\n",
            "\\[\n",
            "P = \\frac{60,000}{1.414778}\n",
            "\\]\n",
            "\n",
            "\\[\n",
            "P \\approx 42,413.79\n",
            "\\]\n",
            "\n",
            "Rounding to the nearest dollar:\n",
            "\n",
            "\\[\n",
            "P \\approx 42,414\n",
            "\\]\n",
            "\n",
            "Therefore, Tim should invest \\(\\boxed{42,414}\\) dollars to have $60,000 at the end of 5 years.\n",
            "3. Here's how to solve this problem:\n",
            "\n",
            "**Understanding Compound Interest**\n",
            "\n",
            "Compound interest means that interest is calculated not only on the principal amount but also on the accumulated interest from previous periods. This leads to exponential growth.\n",
            "\n",
            "**Formula**\n",
            "\n",
            "The formula for compound interest is:\n",
            "\n",
            "A = P(1 + r/n)^(nt)\n",
            "\n",
            "Where:\n",
            "\n",
            "* A = the future value of the investment/loan, including interest\n",
            "* P = the principal investment amount (the initial deposit or loan amount)\n",
            "* r = the annual interest rate (as a decimal)\n",
            "* n = the number of times that interest is compounded per year\n",
            "* t = the number of years the money is invested or borrowed for\n",
            "\n",
            "**Let's plug in the given values:**\n",
            "\n",
            "* A = $60,000\n",
            "* r = 7% = 0.07 (convert percentage to decimal)\n",
            "* n = 4 (compounded quarterly)\n",
            "* t = 5 years\n",
            "\n",
            "We need to solve for P (the principal investment).\n",
            "\n",
            "**Rearranging the formula:**\n",
            "\n",
            "P = A / (1 + r/n)^(nt)\n",
            "\n",
            "**Calculation:**\n",
            "\n",
            "P = $60,000 / (1 + 0.07/4)^(4*5)\n",
            "P = $60,000 / (1.0175)^20\n",
            "P ≈ $43,757\n",
            "\n",
            "**Answer:**\n",
            "\n",
            "To the nearest dollar, Tim should invest approximately **$43,757**.\n",
            "4. ## Step 1: Understand the problem\n",
            "We are given that Tim wants to invest some money in a bank with a $7\\%$ annual interest rate compounded quarterly. The goal is to find out how much he should invest in order to have a total of $\\$60,000$ at the end of $5$ years.\n",
            "\n",
            "## Step 2: Identify the formula for compound interest\n",
            "The formula for compound interest is $A = P\\left(1 + \\frac{r}{n}\\right)^{nt}$, where $A$ is the amount of money accumulated after $n$ years, including interest, $P$ is the principal amount (initial investment), $r$ is the annual interest rate (in decimal), $n$ is the number of times that interest is compounded per year, and $t$ is the time the money is invested for in years.\n",
            "\n",
            "## Step 3: Plug in the given values into the compound interest formula\n",
            "We know that $A = \\$60,000$, $r = 0.07$, $n = 4$ (since the interest is compounded quarterly), and $t = 5$. We need to solve for $P$.\n",
            "\n",
            "## Step 4: Substitute the given values into the formula and solve for P\n",
            "$60,000 = P\\left(1 + \\frac{0.07}{4}\\right)^{4 \\cdot 5}$\n",
            "$60,000 = P\\left(1 + 0.0175\\right)^{20}$\n",
            "$60,000 = P\\left(1.0175\\right)^{20}$\n",
            "$P = \\frac{60,000}{\\left(1.0175\\right)^{20}}$\n",
            "\n",
            "## Step 5: Calculate the value of P\n",
            "$P = \\frac{60,000}{\\left(1.0175\\right)^{20}} \\approx \\frac{60,000}{1.419067227}$\n",
            "$P \\approx 42,409.47466$\n",
            "\n",
            "## Step 6: Round the result to the nearest dollar\n",
            "Rounded to the nearest dollar, $P \\approx \\$42,409$.\n",
            "\n",
            "The final answer is: $\\boxed{42409}$\n"
          ]
        }
      ],
      "source": [
        "# Gather all intermediate responses along with the system prompt\n",
        "aggregator_system_prompt = \"\"\"You have been provided with a set of responses from various open-source models to the latest user query.\n",
        "Your task is to synthesize these responses into a single, high-quality response. It is crucial to critically evaluate the information\n",
        "provided in these responses, recognizing that some of it may be biased or incorrect. Your response should not simply replicate the\n",
        "given answers but should offer a refined, accurate, and comprehensive reply to the instruction. Ensure your response is well-structured,\n",
        "coherent, and adheres to the highest standards of accuracy and reliability.\n",
        "\n",
        "Responses from models:\"\"\"\n",
        "\n",
        "print(aggregator_system_prompt + \"\\n\" + \"\\n\".join(f\"{i+1}. {str(element)}\" for i, element in enumerate(results)))"
      ]
    },
    {
      "cell_type": "code",
      "execution_count": null,
      "metadata": {
        "id": "41IaT37t6x9W",
        "outputId": "6497a66a-3483-4ff4-9115-7ad3ce0448fa"
      },
      "outputs": [
        {
          "name": "stdout",
          "output_type": "stream",
          "text": [
            "To determine how much Tim should invest to have \\$60,000 at the end of 5 years with an annual interest rate of 7% compounded quarterly, we can use the **compound interest formula**:\n",
            "\n",
            "\\[\n",
            "A = P \\left(1 + \\frac{r}{n}\\right)^{nt}\n",
            "\\]\n",
            "\n",
            "Where:\n",
            "- \\( A \\) is the future value (\\$60,000),\n",
            "- \\( P \\) is the principal amount (the initial investment we need to find),\n",
            "- \\( r \\) is the annual interest rate (7% or 0.07),\n",
            "- \\( n \\) is the number of times interest is compounded per year (quarterly means \\( n = 4 \\)),\n",
            "- \\( t \\) is the number of years (5).\n",
            "\n",
            "We rearrange the formula to solve for \\( P \\):\n",
            "\n",
            "\\[\n",
            "P = \\frac{A}{\\left(1 + \\frac{r}{n}\\right)^{nt}}\n",
            "\\]\n",
            "\n",
            "Now, substitute the given values:\n",
            "\n",
            "\\[\n",
            "P = \\frac{60,\\!000}{\\left(1 + \\frac{0.07}{4}\\right)^{4 \\cdot 5}}\n",
            "\\]\n",
            "\n",
            "Simplify the terms inside the parentheses:\n",
            "\n",
            "\\[\n",
            "1 + \\frac{0.07}{4} = 1.0175\n",
            "\\]\n",
            "\n",
            "Calculate the exponent:\n",
            "\n",
            "\\[\n",
            "4 \\cdot 5 = 20\n",
            "\\]\n",
            "\n",
            "Now, compute \\( (1.0175)^{20} \\):\n",
            "\n",
            "\\[\n",
            "(1.0175)^{20} \\approx 1.414778\n",
            "\\]\n",
            "\n",
            "Finally, solve for \\( P \\):\n",
            "\n",
            "\\[\n",
            "P = \\frac{60,\\!000}{1.414778} \\approx 42,\\!413.79\n",
            "\\]\n",
            "\n",
            "Rounding to the nearest dollar:\n",
            "\n",
            "\\[\n",
            "P \\approx 42,\\!414\n",
            "\\]\n",
            "\n",
            "**Answer:** Tim should invest approximately \\(\\boxed{42,\\!414}\\) dollars to have \\$60,000 at the end of 5 years.\n"
          ]
        }
      ],
      "source": [
        "# We will use the best open source model to aggregate the responses\n",
        "aggregator_model = \"deepseek-ai/DeepSeek-V3\"\n",
        "\n",
        "final_output = run_llm(user_prompt=user_prompt, # task to be completed\n",
        "                       model=aggregator_model,\n",
        "                       system_prompt=aggregator_system_prompt + \"\\n\" + \"\\n\".join(f\"{i+1}. {str(element)}\" for i, element in enumerate(results)\n",
        "           ))\n",
        "\n",
        "print(final_output)"
      ]
    },
    {
      "cell_type": "markdown",
      "metadata": {
        "id": "KqShKNfZ6x9X"
      },
      "source": [
        "## Generic Implementation\n",
        "\n",
        "Now we will create a succint function that you can use to try out different combinations of proposers"
      ]
    },
    {
      "cell_type": "code",
      "execution_count": null,
      "metadata": {
        "id": "dzS2G25L6x9X"
      },
      "outputs": [],
      "source": [
        "async def parallel_workflow(prompt : str, proposer_models : List[str], aggregator_model : str, aggregator_prompt: str):\n",
        "    \"\"\"Run a parallel chain of LLM calls to address the `input_query`\n",
        "    using a list of models specified in `models`.\n",
        "\n",
        "    Returns output from final aggregator model.\n",
        "    \"\"\"\n",
        "\n",
        "    # Gather intermediate responses from proposer models\n",
        "    proposed_responses = await asyncio.gather(*[run_llm_parallel(prompt, model) for model in proposer_models])\n",
        "\n",
        "    # Aggregate responses using an aggregator model\n",
        "    final_output = run_llm(user_prompt=prompt,\n",
        "                           model=aggregator_model,\n",
        "                           system_prompt=aggregator_prompt + \"\\n\" + \"\\n\".join(f\"{i+1}. {str(element)}\" for i, element in enumerate(proposed_responses)\n",
        "           ))\n",
        "\n",
        "    return final_output, proposed_responses\n"
      ]
    },
    {
      "cell_type": "code",
      "execution_count": null,
      "metadata": {
        "id": "Ice1gWcV6x9X"
      },
      "outputs": [],
      "source": [
        "# Example Usage\n",
        "\n",
        "reference_models = [\n",
        "    \"microsoft/WizardLM-2-8x22B\",\n",
        "    \"Qwen/Qwen2.5-72B-Instruct-Turbo\",\n",
        "    \"google/gemma-2-27b-it\",\n",
        "    \"meta-llama/Llama-3.3-70B-Instruct-Turbo\",\n",
        "]\n",
        "\n",
        "user_prompt = \"\"\"Jenna and her mother picked some apples from their apple farm.\n",
        "Jenna picked half as many apples as her mom. If her mom got 20 apples, how many apples did they both pick?\"\"\"\n",
        "\n",
        "aggregator_model = \"deepseek-ai/DeepSeek-V3\"\n",
        "\n",
        "aggregator_system_prompt = \"\"\"You have been provided with a set of responses from various open-source models to the latest user query.\n",
        "Your task is to synthesize these responses into a single, high-quality response. It is crucial to critically evaluate the information\n",
        "provided in these responses, recognizing that some of it may be biased or incorrect. Your response should not simply replicate the\n",
        "given answers but should offer a refined, accurate, and comprehensive reply to the instruction. Ensure your response is well-structured,\n",
        "coherent, and adheres to the highest standards of accuracy and reliability.\n",
        "\n",
        "Responses from models:\"\"\"\n",
        "\n",
        "answer, intermediate_reponses = await parallel_workflow(prompt = user_prompt,\n",
        "                                                        proposer_models = reference_models,\n",
        "                                                        aggregator_model = aggregator_model,\n",
        "                                                        aggregator_prompt = aggregator_system_prompt)"
      ]
    },
    {
      "cell_type": "code",
      "execution_count": null,
      "metadata": {
        "id": "56F5VIMZ6x9X",
        "outputId": "40feb442-80e8-4d38-e7fb-b4e1fbad70e8"
      },
      "outputs": [
        {
          "name": "stdout",
          "output_type": "stream",
          "text": [
            "Final Answer: To determine the total number of apples Jenna and her mother picked together, follow these steps:\n",
            "\n",
            "1. **Jenna's Apples:**  \n",
            "   Jenna picked half as many apples as her mother. Since her mother picked 20 apples, Jenna picked:  \n",
            "   \\[\n",
            "   \\frac{1}{2} \\times 20 = 10 \\text{ apples}\n",
            "   \\]\n",
            "\n",
            "2. **Total Apples:**  \n",
            "   To find the total number of apples they both picked, add the number of apples Jenna's mother picked to the number of apples Jenna picked:  \n",
            "   \\[\n",
            "   20 \\text{ (mother's apples)} + 10 \\text{ (Jenna's apples)} = 30 \\text{ apples}\n",
            "   \\]\n",
            "\n",
            "**Final Answer:**  \n",
            "Jenna and her mother together picked **30 apples**.\n",
            "\n"
          ]
        }
      ],
      "source": [
        "print(f\"Final Answer: {answer}\\n\")"
      ]
    },
    {
      "cell_type": "markdown",
      "metadata": {
        "id": "DTJaPsIP6x9Y"
      },
      "source": [
        "---"
      ]
    },
    {
      "cell_type": "markdown",
      "source": [],
      "metadata": {
        "id": "7KodUm_t66uK"
      }
    },
    {
      "cell_type": "code",
      "source": [],
      "metadata": {
        "id": "YKs1LO_q67VP"
      },
      "execution_count": null,
      "outputs": []
    }
  ],
  "metadata": {
    "kernelspec": {
      "display_name": "base",
      "language": "python",
      "name": "python3"
    },
    "language_info": {
      "codemirror_mode": {
        "name": "ipython",
        "version": 3
      },
      "file_extension": ".py",
      "mimetype": "text/x-python",
      "name": "python",
      "nbconvert_exporter": "python",
      "pygments_lexer": "ipython3",
      "version": "3.12.4"
    },
    "colab": {
      "provenance": []
    }
  },
  "nbformat": 4,
  "nbformat_minor": 0
}